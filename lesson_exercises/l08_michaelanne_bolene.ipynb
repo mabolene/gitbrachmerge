{
  "cells": [
    {
      "cell_type": "markdown",
      "metadata": {
        "id": "view-in-github",
        "colab_type": "text"
      },
      "source": [
        "<a href=\"https://colab.research.google.com/github/mabolene/gitbrachmerge/blob/main/lesson_exercises/l08_michaelanne_bolene.ipynb\" target=\"_parent\"><img src=\"https://colab.research.google.com/assets/colab-badge.svg\" alt=\"Open In Colab\"/></a>"
      ]
    },
    {
      "cell_type": "markdown",
      "metadata": {
        "id": "7iNGXqwPdAqq"
      },
      "source": [
        "# E8. To be completed after lesson 24\n",
        "\n",
        "<hr />"
      ]
    },
    {
      "cell_type": "markdown",
      "metadata": {
        "id": "oFwxpS_WdAqw"
      },
      "source": [
        "## Exercise 8.1\n",
        "\n",
        "Why can't we use `scipy.optimize.least_squares()` on the Singer data for mRNA counts from smFISH experiments?\n",
        "\n",
        "<br />\n",
        "\n",
        "**The Singer data for mRNA counts from smFISH experiments (introduced in lecture 19) is Negative Binomially distributed. The least squares method for calculating MLE's is only valid for homoscedastic Normal distributions.**"
      ]
    },
    {
      "cell_type": "markdown",
      "metadata": {
        "id": "LJlT8N6XdAqx"
      },
      "source": [
        "## Exercise 8.2\n",
        "\n",
        "In your mind, is there a fundamental difference between maximum likelihood estimation for variate-covariate models and the other parametric models we have encountered before?\n",
        "\n",
        "<br />\n",
        "\n",
        "**I don't really understand the difference between variate-co-variate models and the other parametric models we've used before. I guess we weren't modeling the C elegans egg lengths as a function of anything while the spindle length is a function of the droplet diameter?**\n",
        "\n",
        "**In this case, I guess the only difference is that we call a \"spindle length\" function inside of the MLE, but the overall structure of the process is the same.**"
      ]
    },
    {
      "cell_type": "markdown",
      "metadata": {
        "id": "AeZywDDJdAqy"
      },
      "source": [
        "## Exercise 8.3\n",
        "\n",
        "Write down any questions or points of confusion that you have.\n",
        "\n",
        "**Why is the joint probability density for the data in Lesson 24 the product of the probability densities?**\n",
        "\n",
        "**I'm having difficulty using the term \"MLE\" in sentences. I feel the urge to say something like \"The MLE estimate of $\\beta$\" but that's a bit like saying \"the ATM machine\". Any tips on how to use the term MLE in context?**\n",
        "\n",
        "**Can you please explain why HW 7.2 had such crazy values for $\\beta_2$??**\n",
        "\n"
      ]
    }
  ],
  "metadata": {
    "kernelspec": {
      "display_name": "Python 3 (ipykernel)",
      "language": "python",
      "name": "python3"
    },
    "language_info": {
      "codemirror_mode": {
        "name": "ipython",
        "version": 3
      },
      "file_extension": ".py",
      "mimetype": "text/x-python",
      "name": "python",
      "nbconvert_exporter": "python",
      "pygments_lexer": "ipython3",
      "version": "3.9.13"
    },
    "colab": {
      "provenance": [],
      "include_colab_link": true
    }
  },
  "nbformat": 4,
  "nbformat_minor": 0
}